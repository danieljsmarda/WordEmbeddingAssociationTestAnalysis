{
 "cells": [
  {
   "cell_type": "code",
   "execution_count": 49,
   "metadata": {},
   "outputs": [],
   "source": [
    "import matplotlib.pyplot as plt\n",
    "from gensim.models import Word2Vec, KeyedVectors\n",
    "import numpy as np\n",
    "from itertools import product\n",
    "from tqdm import tqdm\n",
    "import sys\n",
    "sys.path.append('../src')\n",
    "from models import open_pickle"
   ]
  },
  {
   "cell_type": "code",
   "execution_count": null,
   "metadata": {},
   "outputs": [],
   "source": [
    "MODEL_NAME = 'glove_840B'\n",
    "we_model_load = KeyedVectors.load(f'../data/interim/{MODEL_NAME}_norm', mmap='r')\n",
    "RESULTS_FILEPATH = f'../data/interim/{MODEL_NAME}_association_metric_exps.pickle'\n",
    "EXPERIMENT_DEFINITION_FILEPATH = f'../data/interim/{MODEL_NAME}_experiment_definitions.pickle'\n",
    "IMAGE_SAVE_FILEPATH = f'../reports/figures/{MODEL_NAME}_exp_results.png'\n",
    "NONRELATIVE_IMAGE_SAVE_FILEPATH = f'../reports/figures/{MODEL_NAME}_nonrelative_exp_results.png'\n",
    "\n",
    "exp_def_dict = open_pickle(EXPERIMENT_DEFINITION_FILEPATH)\n",
    "results_dict = open_pickle(RESULTS_FILEPATH)"
   ]
  },
  {
   "cell_type": "code",
   "execution_count": null,
   "metadata": {},
   "outputs": [],
   "source": [
    "def add_axes_obj_labels(ax, exp_num, target_label, A_label, B_label, n_samples):\n",
    "    TITLE_FONT_SIZE = 12\n",
    "    [target_label, A_label, B_label] = [s.upper() for s in [target_label, A_label, B_label]]\n",
    "    ax.set_title(f'#{exp_num}: {target_label} terms: {B_label} (left) vs. {A_label} (right)',\n",
    "                fontsize=TITLE_FONT_SIZE)\n",
    "    ax.set_xlabel(f'Bias Regions: CI with {n_samples} samples')\n",
    "    ax.set_ylabel(f'Word')\n",
    "    ax.yaxis.set_ticklabels([])"
   ]
  },
  {
   "cell_type": "code",
   "execution_count": null,
   "metadata": {},
   "outputs": [],
   "source": [
    "def annotate_points(ax, terms, x_array, y):\n",
    "    POINT_FONT_SIZE = 9\n",
    "    for i, txt in enumerate(terms):\n",
    "        ax.annotate(txt, (x_array[i], y[i]), fontsize=POINT_FONT_SIZE)"
   ]
  },
  {
   "cell_type": "code",
   "execution_count": null,
   "metadata": {},
   "outputs": [],
   "source": [
    "def add_scatters_and_lines(ax, arr, threshold,\n",
    "                   mean, QR_dict, y):\n",
    "    S = 20 # Marker size\n",
    "    ZERO_LINE_COLOR = 'lime'\n",
    "    POINT_COLOR = 'red'\n",
    "    PERCENTILES_COLOR = 'blue'\n",
    "    SHADE_DARKNESS = 0.2\n",
    "    SHADE_DARKNESS_80CI = 0.1\n",
    "    SHADE_DARKNESS_90CI = 0.15\n",
    "    SHADE_DARKNESS_95CI = 0.25\n",
    "    CI_COLOR = 'black'\n",
    "    XAXIS_LIMIT = 0.6\n",
    "    \n",
    "    y = [i for i in range(1,len(arr)+1)]\n",
    "    QR_95 = QR_dict['QR_95']\n",
    "    ax.scatter(arr, y, c=POINT_COLOR, s=S)\n",
    "    ax.xaxis.grid()\n",
    "    ax.axvspan(QR_95[0], QR_95[1], alpha=SHADE_DARKNESS, COLOR=CI_COLOR)\n",
    "    #ax.axvline(threshold_second, color=POINT_COLOR, linestyle='-.', label='threshold')\n",
    "    #ax.axvline(-threshold_second, color=POINT_COLOR, linestyle='-.')\n",
    "    #ax.axvline(mean_second, c=POINT_COLOR, label='second-order mean')\n",
    "    #ax.axvspan(lower_bound, upper_bound, alpha=SHADE_DARKNESS, color=PERCENTILES_COLOR)\n",
    "    #ax.axvspan(ST1_80CI[0], ST1_80CI[1], alpha=SHADE_DARKNESS_80CI, color=CI_COLOR)\n",
    "    #ax.axvspan(ST1_90CI[0], ST1_90CI[1], alpha=SHADE_DARKNESS_90CI, color=CI_COLOR)\n",
    "    #ax.axvspan(ST1_95CI[0], ST1_95CI[1], alpha=SHADE_DARKNESS_95CI, color=CI_COLOR)\n",
    "    #ax.axvspan(pct_5_second, pct_95_second, alpha=SHADE_DARKNESS, color=PERCENTILES_COLOR)\n",
    "    ax.set_xlim(-XAXIS_LIMIT, XAXIS_LIMIT)"
   ]
  },
  {
   "cell_type": "code",
   "execution_count": null,
   "metadata": {},
   "outputs": [],
   "source": [
    "fig, axs = plt.subplots(10,2, figsize=(15,50))\n",
    "LEGEND_SIZE = 10\n",
    "\n",
    "exps = range(1,11)\n",
    "target_letters = ['X','Y']\n",
    "for exp_num, target_letter in tqdm(product(exps, target_letters), total=20):\n",
    "    col = 0 if target_letter =='X' else 1\n",
    "    ax = axs[exp_num-1, col]\n",
    "    \n",
    "    arr = results_dict[exp_num]['second'][f'{target_letter}_array']\n",
    "    threshold = results_dict[exp_num]['second']['threshold']\n",
    "    mean = results_dict[exp_num]['second'][f'{target_letter}_mean']\n",
    "    n_samples = len(results_dict[exp_num]['second']['sigtest_dist_1'])\n",
    "    y = [i for i in range(1,len(arr)+1)]\n",
    "    terms = exp_def_dict[exp_num][f'{target_letter}_terms']\n",
    "    target_label = exp_def_dict[exp_num][f'{target_letter}_label']\n",
    "    A_label = exp_def_dict[exp_num]['A_label']\n",
    "    B_label = exp_def_dict[exp_num]['B_label']\n",
    "    QR_dict = exp_def_dict[exp_num]['QR_dict']\n",
    "    \n",
    "    \n",
    "    add_scatters_and_lines(ax, arr, threshold,\n",
    "                   mean, QR_dict, y)\n",
    "    annotate_points(ax, terms, arr, y)\n",
    "    add_axes_obj_labels(ax, exp_num, target_label, A_label, B_label, n_samples)\n",
    "axs[0,0].legend(loc=2, prop={'size': LEGEND_SIZE})\n",
    "fig.tight_layout(pad=2)\n",
    "print('Rendering...')\n",
    "plt.savefig(IMAGE_SAVE_FILEPATH)\n",
    "plt.show()"
   ]
  },
  {
   "cell_type": "code",
   "execution_count": null,
   "metadata": {},
   "outputs": [],
   "source": []
  }
 ],
 "metadata": {
  "kernelspec": {
   "display_name": "Python 3",
   "language": "python",
   "name": "python3"
  },
  "language_info": {
   "codemirror_mode": {
    "name": "ipython",
    "version": 3
   },
   "file_extension": ".py",
   "mimetype": "text/x-python",
   "name": "python",
   "nbconvert_exporter": "python",
   "pygments_lexer": "ipython3",
   "version": "3.7.9"
  }
 },
 "nbformat": 4,
 "nbformat_minor": 4
}
